{
 "cells": [
  {
   "cell_type": "code",
   "execution_count": 1,
   "metadata": {
    "collapsed": true
   },
   "outputs": [],
   "source": [
    "import pandas as pd\n",
    "pd.set_option('display.max_columns', None)"
   ]
  },
  {
   "cell_type": "code",
   "execution_count": 5,
   "metadata": {
    "collapsed": false
   },
   "outputs": [],
   "source": [
    "df_price = pd.read_excel('/Volumes/transcend/大檔案/中華郵政/雷達圖指標/郵局獲利能力.xlsx')\n",
    "df_neighbor = pd.read_excel('/Volumes/transcend/大檔案/中華郵政/雷達圖指標/附近郵局數.xlsx')\n",
    "df_errortime = pd.read_excel('/Volumes/transcend/大檔案/中華郵政/雷達圖指標/異常時間.xlsx')\n",
    "colnames=['ACC01', '案件數量'] \n",
    "df_number = pd.read_csv('/Volumes/transcend/大檔案/中華郵政/雷達圖指標/郵局案件量.csv', names=colnames, header=None)\n",
    "colnames=['ACC01', '空值量'] \n",
    "df_null = pd.read_csv('/Volumes/transcend/大檔案/中華郵政/雷達圖指標/空直.csv', names=colnames, header=None)\n",
    "colnames=['ACC01', '案件沖銷量'] \n",
    "df_back = pd.read_csv('/Volumes/transcend/大檔案/中華郵政/雷達圖指標/back.csv', names=colnames, header=None)"
   ]
  },
  {
   "cell_type": "code",
   "execution_count": 6,
   "metadata": {
    "collapsed": true
   },
   "outputs": [],
   "source": [
    "df_neighbor = df_neighbor.rename(columns={'郵務局號': 'ACC01'})\n",
    "df_neighbor = df_neighbor[['ACC01','附近郵局數']]"
   ]
  },
  {
   "cell_type": "code",
   "execution_count": 7,
   "metadata": {
    "collapsed": false
   },
   "outputs": [],
   "source": [
    "df_errortime['交寄時間異常'] = df_errortime['交寄時間異常'].fillna(0)"
   ]
  },
  {
   "cell_type": "code",
   "execution_count": 19,
   "metadata": {
    "collapsed": false
   },
   "outputs": [],
   "source": [
    "df_all = pd.merge(df_price, df_neighbor, on='ACC01')\n",
    "df_all = pd.merge(df_all, df_number, on='ACC01')\n",
    "df_all = pd.merge(df_all, df_null, on='ACC01')\n",
    "df_all = pd.merge(df_all, df_back, on='ACC01')\n",
    "df_all = pd.merge(df_all, df_errortime, on='ACC01')"
   ]
  },
  {
   "cell_type": "code",
   "execution_count": 20,
   "metadata": {
    "collapsed": false,
    "scrolled": false
   },
   "outputs": [],
   "source": [
    "df_all = df_all.sort_values(by=['ACC01']).reset_index(drop=True)"
   ]
  },
  {
   "cell_type": "code",
   "execution_count": 21,
   "metadata": {
    "collapsed": false,
    "scrolled": false
   },
   "outputs": [],
   "source": [
    "df_all = df_all.rename(columns={'price': '獲利能力'})"
   ]
  },
  {
   "cell_type": "code",
   "execution_count": 22,
   "metadata": {
    "collapsed": false
   },
   "outputs": [],
   "source": [
    "# 特約客戶\n",
    "df_cc = pd.read_csv('/Volumes/transcend/大檔案/中華郵政/CC.csv', encoding='big5', header=None)"
   ]
  },
  {
   "cell_type": "code",
   "execution_count": 23,
   "metadata": {
    "collapsed": false
   },
   "outputs": [],
   "source": [
    "df_customer = df_cc.groupby([8]).size().reset_index()\n",
    "df_customer = df_customer.rename(columns={0: '特約客戶數量', 8: 'ACC01'})"
   ]
  },
  {
   "cell_type": "code",
   "execution_count": 24,
   "metadata": {
    "collapsed": false
   },
   "outputs": [],
   "source": [
    "df_all = pd.merge(df_all, df_customer, on='ACC01', how='left')"
   ]
  },
  {
   "cell_type": "code",
   "execution_count": 28,
   "metadata": {
    "collapsed": false
   },
   "outputs": [],
   "source": [
    "df_all['特約客戶數量'] = df_all['特約客戶數量'].fillna(0)"
   ]
  },
  {
   "cell_type": "code",
   "execution_count": 29,
   "metadata": {
    "collapsed": false
   },
   "outputs": [],
   "source": [
    "# 計算時間\n",
    "df_time = pd.read_csv('/Volumes/transcend/大檔案/中華郵政/雷達圖指標/營業資訊.csv')"
   ]
  },
  {
   "cell_type": "code",
   "execution_count": 30,
   "metadata": {
    "collapsed": false
   },
   "outputs": [
    {
     "name": "stderr",
     "output_type": "stream",
     "text": [
      "/Users/andy/anaconda/lib/python3.6/site-packages/IPython/core/interactiveshell.py:2717: DtypeWarning: Columns (12) have mixed types. Specify dtype option on import or set low_memory=False.\n",
      "  interactivity=interactivity, compiler=compiler, result=result)\n"
     ]
    }
   ],
   "source": [
    "df_acc = pd.read_csv('/Volumes/transcend/大檔案/中華郵政/雙北市ACC價錢.csv')\n",
    "df_acc = df_acc[['局名','ACC01','ACC06','ACC13']]\n",
    "df_acc = df_acc.groupby(['局名','ACC06'])['ACC13'].sum().reset_index()"
   ]
  },
  {
   "cell_type": "code",
   "execution_count": 31,
   "metadata": {
    "collapsed": false
   },
   "outputs": [],
   "source": [
    "# 營業天數\n",
    "date = []\n",
    "for i in df_all['局名']:\n",
    "    date.append(len(df_acc[df_acc['局名']==i]))"
   ]
  },
  {
   "cell_type": "code",
   "execution_count": 32,
   "metadata": {
    "collapsed": false
   },
   "outputs": [],
   "source": [
    "df_all = pd.concat([df_all, pd.DataFrame(date, columns=['營業天數'])], axis=1)"
   ]
  },
  {
   "cell_type": "code",
   "execution_count": 33,
   "metadata": {
    "collapsed": false
   },
   "outputs": [],
   "source": [
    "# 區域人口數\n",
    "df_area = pd.read_csv('/Volumes/transcend/大檔案/中華郵政/郵務局號.csv')\n",
    "df_people = pd.read_excel('/Volumes/transcend/大檔案/中華郵政/雷達圖指標/雙北人口數.xlsx')"
   ]
  },
  {
   "cell_type": "code",
   "execution_count": 34,
   "metadata": {
    "collapsed": false
   },
   "outputs": [],
   "source": [
    "df_area = df_area[['郵務局號','鄉鎮市區']]\n",
    "df_area = df_area.rename(columns={'郵務局號': 'ACC01'})"
   ]
  },
  {
   "cell_type": "code",
   "execution_count": 41,
   "metadata": {
    "collapsed": false
   },
   "outputs": [],
   "source": [
    "df_all = pd.merge(df_all, df_area, on='ACC01')\n",
    "df_all = pd.merge(df_all, df_people, on='鄉鎮市區')\n",
    "df_all = df_all.rename(columns={'人口數': '區域人口數'})"
   ]
  },
  {
   "cell_type": "code",
   "execution_count": 42,
   "metadata": {
    "collapsed": false,
    "scrolled": false
   },
   "outputs": [],
   "source": [
    "df_all = df_all[['ACC01','局名','鄉鎮市區','區域人口數','附近郵局數','獲利能力','案件數量','特約客戶數量','營業天數','空值量','交寄時間異常']]"
   ]
  },
  {
   "cell_type": "code",
   "execution_count": 43,
   "metadata": {
    "collapsed": false
   },
   "outputs": [
    {
     "data": {
      "text/html": [
       "<div>\n",
       "<style scoped>\n",
       "    .dataframe tbody tr th:only-of-type {\n",
       "        vertical-align: middle;\n",
       "    }\n",
       "\n",
       "    .dataframe tbody tr th {\n",
       "        vertical-align: top;\n",
       "    }\n",
       "\n",
       "    .dataframe thead th {\n",
       "        text-align: right;\n",
       "    }\n",
       "</style>\n",
       "<table border=\"1\" class=\"dataframe\">\n",
       "  <thead>\n",
       "    <tr style=\"text-align: right;\">\n",
       "      <th></th>\n",
       "      <th>ACC01</th>\n",
       "      <th>局名</th>\n",
       "      <th>鄉鎮市區</th>\n",
       "      <th>區域人口數</th>\n",
       "      <th>附近郵局數</th>\n",
       "      <th>獲利能力</th>\n",
       "      <th>案件數量</th>\n",
       "      <th>特約客戶數量</th>\n",
       "      <th>營業天數</th>\n",
       "      <th>空值量</th>\n",
       "      <th>交寄時間異常</th>\n",
       "    </tr>\n",
       "  </thead>\n",
       "  <tbody>\n",
       "    <tr>\n",
       "      <th>0</th>\n",
       "      <td>100001</td>\n",
       "      <td>臺北東門</td>\n",
       "      <td>中正區</td>\n",
       "      <td>158709</td>\n",
       "      <td>8</td>\n",
       "      <td>1700817</td>\n",
       "      <td>122151</td>\n",
       "      <td>27.0</td>\n",
       "      <td>71</td>\n",
       "      <td>145277</td>\n",
       "      <td>693.0</td>\n",
       "    </tr>\n",
       "    <tr>\n",
       "      <th>1</th>\n",
       "      <td>100005</td>\n",
       "      <td>臺北南海</td>\n",
       "      <td>中正區</td>\n",
       "      <td>158709</td>\n",
       "      <td>9</td>\n",
       "      <td>2577493</td>\n",
       "      <td>555857</td>\n",
       "      <td>30.0</td>\n",
       "      <td>71</td>\n",
       "      <td>215173</td>\n",
       "      <td>0.0</td>\n",
       "    </tr>\n",
       "    <tr>\n",
       "      <th>2</th>\n",
       "      <td>100006</td>\n",
       "      <td>臺北螢橋</td>\n",
       "      <td>中正區</td>\n",
       "      <td>158709</td>\n",
       "      <td>4</td>\n",
       "      <td>989057</td>\n",
       "      <td>53165</td>\n",
       "      <td>18.0</td>\n",
       "      <td>60</td>\n",
       "      <td>75189</td>\n",
       "      <td>13.0</td>\n",
       "    </tr>\n",
       "    <tr>\n",
       "      <th>3</th>\n",
       "      <td>100008</td>\n",
       "      <td>臺北復興橋</td>\n",
       "      <td>中正區</td>\n",
       "      <td>158709</td>\n",
       "      <td>11</td>\n",
       "      <td>1095432</td>\n",
       "      <td>176533</td>\n",
       "      <td>25.0</td>\n",
       "      <td>60</td>\n",
       "      <td>102501</td>\n",
       "      <td>10.0</td>\n",
       "    </tr>\n",
       "    <tr>\n",
       "      <th>4</th>\n",
       "      <td>100012</td>\n",
       "      <td>行政院</td>\n",
       "      <td>中正區</td>\n",
       "      <td>158709</td>\n",
       "      <td>9</td>\n",
       "      <td>641832</td>\n",
       "      <td>131994</td>\n",
       "      <td>17.0</td>\n",
       "      <td>60</td>\n",
       "      <td>61454</td>\n",
       "      <td>0.0</td>\n",
       "    </tr>\n",
       "  </tbody>\n",
       "</table>\n",
       "</div>"
      ],
      "text/plain": [
       "    ACC01     局名 鄉鎮市區   區域人口數  附近郵局數     獲利能力    案件數量  特約客戶數量  營業天數     空值量  \\\n",
       "0  100001   臺北東門  中正區  158709      8  1700817  122151    27.0    71  145277   \n",
       "1  100005   臺北南海  中正區  158709      9  2577493  555857    30.0    71  215173   \n",
       "2  100006   臺北螢橋  中正區  158709      4   989057   53165    18.0    60   75189   \n",
       "3  100008  臺北復興橋  中正區  158709     11  1095432  176533    25.0    60  102501   \n",
       "4  100012    行政院  中正區  158709      9   641832  131994    17.0    60   61454   \n",
       "\n",
       "   交寄時間異常  \n",
       "0   693.0  \n",
       "1     0.0  \n",
       "2    13.0  \n",
       "3    10.0  \n",
       "4     0.0  "
      ]
     },
     "execution_count": 43,
     "metadata": {},
     "output_type": "execute_result"
    }
   ],
   "source": [
    "df_all.head()"
   ]
  },
  {
   "cell_type": "code",
   "execution_count": 45,
   "metadata": {
    "collapsed": true
   },
   "outputs": [],
   "source": [
    "df_all.to_excel('/Volumes/transcend/大檔案/中華郵政/雷達圖指標/雷達指標表.xlsx')"
   ]
  }
 ],
 "metadata": {
  "kernelspec": {
   "display_name": "Python 3",
   "language": "python",
   "name": "python3"
  },
  "language_info": {
   "codemirror_mode": {
    "name": "ipython",
    "version": 3
   },
   "file_extension": ".py",
   "mimetype": "text/x-python",
   "name": "python",
   "nbconvert_exporter": "python",
   "pygments_lexer": "ipython3",
   "version": "3.6.8"
  }
 },
 "nbformat": 4,
 "nbformat_minor": 2
}
