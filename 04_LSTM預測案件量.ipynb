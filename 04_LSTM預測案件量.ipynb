{
 "cells": [
  {
   "cell_type": "code",
   "execution_count": 1,
   "metadata": {
    "collapsed": false
   },
   "outputs": [
    {
     "name": "stderr",
     "output_type": "stream",
     "text": [
      "/Users/andy/anaconda/lib/python3.6/site-packages/IPython/core/interactiveshell.py:2717: DtypeWarning: Columns (12) have mixed types. Specify dtype option on import or set low_memory=False.\n",
      "  interactivity=interactivity, compiler=compiler, result=result)\n"
     ]
    }
   ],
   "source": [
    "import pandas as pd\n",
    "pd.set_option('display.max_columns', None)\n",
    "df = pd.read_csv('/Volumes/transcend/大檔案/中華郵政/雙北市ACC價錢.csv')"
   ]
  },
  {
   "cell_type": "code",
   "execution_count": 2,
   "metadata": {
    "collapsed": false
   },
   "outputs": [
    {
     "data": {
      "text/html": [
       "<div>\n",
       "<style scoped>\n",
       "    .dataframe tbody tr th:only-of-type {\n",
       "        vertical-align: middle;\n",
       "    }\n",
       "\n",
       "    .dataframe tbody tr th {\n",
       "        vertical-align: top;\n",
       "    }\n",
       "\n",
       "    .dataframe thead th {\n",
       "        text-align: right;\n",
       "    }\n",
       "</style>\n",
       "<table border=\"1\" class=\"dataframe\">\n",
       "  <thead>\n",
       "    <tr style=\"text-align: right;\">\n",
       "      <th></th>\n",
       "      <th>局名</th>\n",
       "      <th>ACC01</th>\n",
       "      <th>ACC06</th>\n",
       "      <th>ACC13</th>\n",
       "      <th>ACC14</th>\n",
       "      <th>ACC15</th>\n",
       "    </tr>\n",
       "  </thead>\n",
       "  <tbody>\n",
       "    <tr>\n",
       "      <th>0</th>\n",
       "      <td>臺北大安</td>\n",
       "      <td>100117</td>\n",
       "      <td>1070102</td>\n",
       "      <td>1</td>\n",
       "      <td>1</td>\n",
       "      <td>1</td>\n",
       "    </tr>\n",
       "    <tr>\n",
       "      <th>1</th>\n",
       "      <td>臺北大安</td>\n",
       "      <td>100117</td>\n",
       "      <td>1070102</td>\n",
       "      <td>1</td>\n",
       "      <td>3</td>\n",
       "      <td>1</td>\n",
       "    </tr>\n",
       "  </tbody>\n",
       "</table>\n",
       "</div>"
      ],
      "text/plain": [
       "     局名   ACC01    ACC06  ACC13  ACC14 ACC15\n",
       "0  臺北大安  100117  1070102      1      1     1\n",
       "1  臺北大安  100117  1070102      1      3     1"
      ]
     },
     "execution_count": 2,
     "metadata": {},
     "output_type": "execute_result"
    }
   ],
   "source": [
    "df = df[['局名','ACC01','ACC06','ACC13','ACC14','ACC15']]\n",
    "df.head(2)"
   ]
  },
  {
   "cell_type": "markdown",
   "metadata": {},
   "source": [
    "### 計算各郵局每天案件量"
   ]
  },
  {
   "cell_type": "code",
   "execution_count": 3,
   "metadata": {
    "collapsed": false,
    "scrolled": false
   },
   "outputs": [
    {
     "data": {
      "text/html": [
       "<div>\n",
       "<style scoped>\n",
       "    .dataframe tbody tr th:only-of-type {\n",
       "        vertical-align: middle;\n",
       "    }\n",
       "\n",
       "    .dataframe tbody tr th {\n",
       "        vertical-align: top;\n",
       "    }\n",
       "\n",
       "    .dataframe thead th {\n",
       "        text-align: right;\n",
       "    }\n",
       "</style>\n",
       "<table border=\"1\" class=\"dataframe\">\n",
       "  <thead>\n",
       "    <tr style=\"text-align: right;\">\n",
       "      <th></th>\n",
       "      <th>局名</th>\n",
       "      <th>ACC06</th>\n",
       "      <th>ACC13</th>\n",
       "    </tr>\n",
       "  </thead>\n",
       "  <tbody>\n",
       "    <tr>\n",
       "      <th>0</th>\n",
       "      <td>三峽</td>\n",
       "      <td>1070102</td>\n",
       "      <td>30645</td>\n",
       "    </tr>\n",
       "    <tr>\n",
       "      <th>1</th>\n",
       "      <td>三峽</td>\n",
       "      <td>1070103</td>\n",
       "      <td>7074</td>\n",
       "    </tr>\n",
       "    <tr>\n",
       "      <th>2</th>\n",
       "      <td>三峽</td>\n",
       "      <td>1070104</td>\n",
       "      <td>3894</td>\n",
       "    </tr>\n",
       "  </tbody>\n",
       "</table>\n",
       "</div>"
      ],
      "text/plain": [
       "   局名    ACC06  ACC13\n",
       "0  三峽  1070102  30645\n",
       "1  三峽  1070103   7074\n",
       "2  三峽  1070104   3894"
      ]
     },
     "execution_count": 3,
     "metadata": {},
     "output_type": "execute_result"
    }
   ],
   "source": [
    "df_time = df.groupby(['局名','ACC06'])['ACC13'].sum().reset_index()\n",
    "df_time.head(3)"
   ]
  },
  {
   "cell_type": "markdown",
   "metadata": {},
   "source": [
    "### 預測新店郵局"
   ]
  },
  {
   "cell_type": "code",
   "execution_count": 416,
   "metadata": {
    "collapsed": false
   },
   "outputs": [],
   "source": [
    "import warnings\n",
    "warnings.filterwarnings(\"ignore\")\n",
    "df_target = df_time[df_time['局名']=='新店']\n",
    "# 抽出星期\n",
    "df_target['ACC06'] = df_target['ACC06'].astype(str).str.replace('107','2018')\n",
    "# df_target['ACC06'] = df_target['ACC06'].astype(str).str.replace('201802018','20180107')\n",
    "df_target['ACC06'] = pd.to_datetime(df_target['ACC06'], format='%Y%m%d')\n",
    "df_target['weekday'] = df_target['ACC06'].dt.weekday\n",
    "df_target = df_target.drop('局名',axis=1)\n",
    "df_target = df_target.drop('ACC06',axis=1)"
   ]
  },
  {
   "cell_type": "code",
   "execution_count": 417,
   "metadata": {
    "collapsed": false
   },
   "outputs": [
    {
     "data": {
      "image/png": "[encoded data removed]",
      "text/plain": [
       "<Figure size 432x288 with 1 Axes>"
      ]
     },
     "metadata": {},
     "output_type": "display_data"
    }
   ],
   "source": [
    "import matplotlib.pyplot as plt\n",
    "plt.plot(df_target['ACC13'])\n",
    "plt.show()"
   ]
  },
  {
   "cell_type": "code",
   "execution_count": 40,
   "metadata": {
    "collapsed": true
   },
   "outputs": [
    {
     "data": {
      "image/png": "[encoded data removed]",
      "text/plain": [
       "<Figure size 432x288 with 1 Axes>"
      ]
     },
     "metadata": {},
     "output_type": "display_data"
    },
    {
     "data": {
      "image/png": "[encoded data removed]",
      "text/plain": [
       "<Figure size 432x288 with 1 Axes>"
      ]
     },
     "metadata": {},
     "output_type": "display_data"
    }
   ],
   "source": [
    "import numpy as np\n",
    "from scipy import stats\n",
    "import statsmodels.api as sm\n",
    "from statsmodels.graphics.api import qqplot\n",
    "# 畫出 ACF 12 期的效應\n",
    "sm.graphics.tsa.plot_acf(df_target['ACC13'], lags=12)\n",
    "plt.show()\n",
    "# 畫出 PACF 12 期的效應\n",
    "sm.graphics.tsa.plot_pacf(df_target['ACC13'], lags=12)\n",
    "plt.show()"
   ]
  },
  {
   "cell_type": "code",
   "execution_count": 418,
   "metadata": {
    "collapsed": false
   },
   "outputs": [],
   "source": [
    "# 正規化(normalize) 資料，使資料值介於[0, 1]\n",
    "from sklearn.preprocessing import MinMaxScaler\n",
    "scaler = MinMaxScaler(feature_range=(0, 1))\n",
    "df_target_sca = df_target.copy()\n",
    "df_target_sca['ACC13'] = scaler.fit_transform(pd.DataFrame(df_target['ACC13']))"
   ]
  },
  {
   "cell_type": "code",
   "execution_count": 419,
   "metadata": {
    "collapsed": false
   },
   "outputs": [],
   "source": [
    "# 2/3 資料為訓練資料， 1/3 資料為測試資料\n",
    "train_size = int(len(df_target_sca) * 0.67)\n",
    "test_size = len(df_target_sca) - train_size\n",
    "train, test = df_target_sca.values[0:train_size,:], df_target_sca.values[train_size:len(df_target_sca),:]"
   ]
  },
  {
   "cell_type": "code",
   "execution_count": 420,
   "metadata": {
    "collapsed": true
   },
   "outputs": [],
   "source": [
    "trainX = df_target_sca.values[0:train_size,:]\n",
    "trainY = df_target_sca.values[1:train_size+1,0]\n",
    "testX = df_target_sca.values[train_size:len(df_target_sca),:]\n",
    "testY = df_target_sca.values[train_size+1:len(df_target_sca),0]\n",
    "\n",
    "trainX = np.expand_dims(trainX, axis=1)\n",
    "testX = np.expand_dims(testX, axis=1)"
   ]
  },
  {
   "cell_type": "code",
   "execution_count": 235,
   "metadata": {
    "code_folding": [
     0
    ],
    "collapsed": false
   },
   "outputs": [],
   "source": [
    "# 產生 (X, Y) 資料集, Y 是下一期的乘客數\n",
    "def create_dataset(dataset, look_back=1):\n",
    "    dataX, dataY = [], []\n",
    "    for i in range(len(dataset)-look_back-1):\n",
    "        a = dataset[i:(i+look_back)]\n",
    "        dataX.append(a)\n",
    "        dataY.append(dataset[i + look_back, 0])\n",
    "    return np.array(dataX), np.array(dataY)\n",
    "\n",
    "# 產生 (X, Y) 資料集, Y 是下一期的乘客數(reshape into X=t and Y=t+1)\n",
    "look_back = 1\n",
    "trainX, trainY = create_dataset(train, look_back)\n",
    "testX, testY = create_dataset(test, look_back)\n",
    "# reshape input to be [samples, time steps, features]\n",
    "# trainX = np.reshape(trainX, (trainX.shape[0], 1, trainX.shape[1]))\n",
    "# testX = np.reshape(testX, (testX.shape[0], 1, testX.shape[1]))"
   ]
  },
  {
   "cell_type": "markdown",
   "metadata": {},
   "source": [
    "### LSTM"
   ]
  },
  {
   "cell_type": "code",
   "execution_count": 18,
   "metadata": {
    "collapsed": false
   },
   "outputs": [
    {
     "name": "stderr",
     "output_type": "stream",
     "text": [
      "Using TensorFlow backend.\n"
     ]
    }
   ],
   "source": [
    "from keras.models import Sequential\n",
    "from keras.layers import Dense\n",
    "from keras.layers import LSTM"
   ]
  },
  {
   "cell_type": "code",
   "execution_count": 421,
   "metadata": {
    "collapsed": false
   },
   "outputs": [
    {
     "data": {
      "text/plain": [
       "<keras.callbacks.History at 0x1330ca748>"
      ]
     },
     "execution_count": 421,
     "metadata": {},
     "output_type": "execute_result"
    }
   ],
   "source": [
    "# 建立及訓練 LSTM 模型\n",
    "model = Sequential()\n",
    "model.add(LSTM(32, input_shape=(1, 2)))\n",
    "model.add(Dense(units=64,activation='relu'))\n",
    "model.add(Dense(units=32,activation='relu'))\n",
    "model.add(Dense(1))\n",
    "model.compile(loss='mean_squared_error', optimizer='adam')\n",
    "model.fit(trainX, trainY, epochs=100, batch_size=1, verbose=0)"
   ]
  },
  {
   "cell_type": "code",
   "execution_count": 422,
   "metadata": {
    "collapsed": true
   },
   "outputs": [],
   "source": [
    "# 預測\n",
    "trainPredict = model.predict(trainX)\n",
    "testPredict = model.predict(testX)"
   ]
  },
  {
   "cell_type": "code",
   "execution_count": 423,
   "metadata": {
    "collapsed": false
   },
   "outputs": [
    {
     "name": "stdout",
     "output_type": "stream",
     "text": [
      "Train Score: 0.09 RMSE\n",
      "Test Score: 0.09 RMSE\n"
     ]
    }
   ],
   "source": [
    "# calculate 均方根誤差(root mean squared error)\n",
    "import math\n",
    "from sklearn.metrics import mean_squared_error\n",
    "trainScore = math.sqrt(mean_squared_error(trainY, trainPredict[:,0]))\n",
    "print('Train Score: %.2f RMSE' % (trainScore))\n",
    "testScore = math.sqrt(mean_squared_error(testY, testPredict[:-1,0]))\n",
    "print('Test Score: %.2f RMSE' % (testScore))"
   ]
  },
  {
   "cell_type": "code",
   "execution_count": 424,
   "metadata": {
    "collapsed": false
   },
   "outputs": [],
   "source": [
    "# 回復預測資料值為原始數據的規模\n",
    "trainPredict = scaler.inverse_transform(trainPredict)\n",
    "trainY = scaler.inverse_transform([trainY])\n",
    "testPredict = scaler.inverse_transform(testPredict)\n",
    "testY = scaler.inverse_transform([testY])"
   ]
  },
  {
   "cell_type": "code",
   "execution_count": 425,
   "metadata": {
    "collapsed": false
   },
   "outputs": [
    {
     "name": "stdout",
     "output_type": "stream",
     "text": [
      "Train Score: 164882.19 RMSE\n",
      "Test Score: 174778.31 RMSE\n"
     ]
    }
   ],
   "source": [
    "# 回復後\n",
    "trainScore = math.sqrt(mean_squared_error(trainY[0], trainPredict[:,0]))\n",
    "print('Train Score: %.2f RMSE' % (trainScore))\n",
    "testScore = math.sqrt(mean_squared_error(testY[0], testPredict[:-1,0]))\n",
    "print('Test Score: %.2f RMSE' % (testScore))"
   ]
  },
  {
   "cell_type": "code",
   "execution_count": 463,
   "metadata": {
    "collapsed": false
   },
   "outputs": [
    {
     "data": {
      "image/png": "[encoded data removed]",
      "text/plain": [
       "<Figure size 432x288 with 1 Axes>"
      ]
     },
     "metadata": {},
     "output_type": "display_data"
    }
   ],
   "source": [
    "# 畫訓練資料趨勢圖\n",
    "trainPredictPlot = np.empty_like(df_target_sca)\n",
    "trainPredictPlot[:, :] = np.nan\n",
    "trainPredictPlot[1:len(trainPredict)+1, :] = trainPredict\n",
    "\n",
    "# 畫測試資料趨勢圖\n",
    "testPredictPlot = np.empty_like(df_target_sca)\n",
    "testPredictPlot[:, :] = np.nan\n",
    "testPredictPlot[len(trainPredict)+1:len(df_target_sca), :] = testPredict[0:-1]\n",
    "\n",
    "# 畫原始資料趨勢圖\n",
    "plt.plot(scaler.inverse_transform(pd.DataFrame(df_target_sca['ACC13'])), label='original')\n",
    "plt.plot(trainPredictPlot[:,0], 'C1', label='predict')\n",
    "plt.plot(testPredictPlot, 'C1')\n",
    "plt.title('LSTM Predict Model')\n",
    "plt.legend(loc='upper right')\n",
    "plt.show()"
   ]
  },
  {
   "cell_type": "markdown",
   "metadata": {
    "collapsed": false,
    "scrolled": false
   },
   "source": [
    "### 預測細分類"
   ]
  },
  {
   "cell_type": "code",
   "execution_count": 169,
   "metadata": {
    "collapsed": false
   },
   "outputs": [],
   "source": [
    "df_acc15 = df.groupby(['局名','ACC06','ACC14','ACC15'])['ACC13'].sum().reset_index()"
   ]
  },
  {
   "cell_type": "code",
   "execution_count": 360,
   "metadata": {
    "code_folding": [
     0
    ],
    "collapsed": false,
    "scrolled": false
   },
   "outputs": [],
   "source": [
    "# 預測小包\n",
    "df_target = df_acc15[(df_acc15['ACC14']==1)&(df_acc15['ACC15']==2)]\n",
    "df_target = df_target[df_target['局名']=='新店']\n",
    "df_target['ACC06'] = df_target['ACC06'].astype(str).str.replace('107','2018')\n",
    "df_target['ACC06'] = pd.to_datetime(df_target['ACC06'], format='%Y%m%d')\n",
    "df_target['weekday'] = df_target['ACC06'].dt.weekday\n",
    "df_target = df_target.drop('局名',axis=1)\n",
    "df_target = df_target.drop('ACC06',axis=1)\n",
    "df_target = df_target.drop('ACC14',axis=1)\n",
    "df_target = df_target.drop('ACC15',axis=1)"
   ]
  },
  {
   "cell_type": "code",
   "execution_count": 361,
   "metadata": {
    "collapsed": false
   },
   "outputs": [
    {
     "data": {
      "image/png": "[encoded data removed]",
      "text/plain": [
       "<Figure size 432x288 with 1 Axes>"
      ]
     },
     "metadata": {},
     "output_type": "display_data"
    }
   ],
   "source": [
    "import matplotlib.pyplot as plt\n",
    "plt.plot(df_target['ACC13'])\n",
    "plt.show()"
   ]
  },
  {
   "cell_type": "code",
   "execution_count": 362,
   "metadata": {
    "code_folding": [
     0
    ],
    "collapsed": false
   },
   "outputs": [],
   "source": [
    "# 正規化(normalize) 資料，使資料值介於[0, 1]\n",
    "scaler = MinMaxScaler(feature_range=(0, 1))\n",
    "df_target_sca = df_target.copy()\n",
    "df_target_sca['ACC13'] = scaler.fit_transform(pd.DataFrame(df_target['ACC13']))\n",
    "# 2/3 資料為訓練資料， 1/3 資料為測試資料\n",
    "train_size = int(len(df_target_sca) * 0.67)\n",
    "test_size = len(df_target_sca) - train_size\n",
    "trainX = df_target_sca.values[0:train_size,:]\n",
    "trainY = df_target_sca.values[1:train_size+1,0]\n",
    "testX = df_target_sca.values[train_size:len(df_target_sca),:]\n",
    "testY = df_target_sca.values[train_size+1:len(df_target_sca),0]\n",
    "\n",
    "trainX = np.expand_dims(trainX, axis=1)\n",
    "testX = np.expand_dims(testX, axis=1)"
   ]
  },
  {
   "cell_type": "code",
   "execution_count": 363,
   "metadata": {
    "code_folding": [
     0
    ],
    "collapsed": true
   },
   "outputs": [
    {
     "name": "stdout",
     "output_type": "stream",
     "text": [
      "Epoch 1/100\n",
      " - 2s - loss: 0.1188\n",
      "Epoch 2/100\n",
      " - 0s - loss: 0.0759\n",
      "Epoch 3/100\n",
      " - 0s - loss: 0.0668\n",
      "Epoch 4/100\n",
      " - 0s - loss: 0.0612\n",
      "Epoch 5/100\n",
      " - 0s - loss: 0.0571\n",
      "Epoch 6/100\n",
      " - 0s - loss: 0.0574\n",
      "Epoch 7/100\n",
      " - 0s - loss: 0.0539\n",
      "Epoch 8/100\n",
      " - 0s - loss: 0.0535\n",
      "Epoch 9/100\n",
      " - 0s - loss: 0.0527\n",
      "Epoch 10/100\n",
      " - 0s - loss: 0.0524\n",
      "Epoch 11/100\n",
      " - 0s - loss: 0.0522\n",
      "Epoch 12/100\n",
      " - 0s - loss: 0.0507\n",
      "Epoch 13/100\n",
      " - 0s - loss: 0.0507\n",
      "Epoch 14/100\n",
      " - 0s - loss: 0.0501\n",
      "Epoch 15/100\n",
      " - 0s - loss: 0.0494\n",
      "Epoch 16/100\n",
      " - 0s - loss: 0.0485\n",
      "Epoch 17/100\n",
      " - 0s - loss: 0.0470\n",
      "Epoch 18/100\n",
      " - 0s - loss: 0.0483\n",
      "Epoch 19/100\n",
      " - 0s - loss: 0.0472\n",
      "Epoch 20/100\n",
      " - 0s - loss: 0.0463\n",
      "Epoch 21/100\n",
      " - 0s - loss: 0.0438\n",
      "Epoch 22/100\n",
      " - 0s - loss: 0.0436\n",
      "Epoch 23/100\n",
      " - 0s - loss: 0.0425\n",
      "Epoch 24/100\n",
      " - 0s - loss: 0.0405\n",
      "Epoch 25/100\n",
      " - 0s - loss: 0.0387\n",
      "Epoch 26/100\n",
      " - 0s - loss: 0.0367\n",
      "Epoch 27/100\n",
      " - 0s - loss: 0.0350\n",
      "Epoch 28/100\n",
      " - 0s - loss: 0.0320\n",
      "Epoch 29/100\n",
      " - 0s - loss: 0.0324\n",
      "Epoch 30/100\n",
      " - 0s - loss: 0.0304\n",
      "Epoch 31/100\n",
      " - 0s - loss: 0.0290\n",
      "Epoch 32/100\n",
      " - 0s - loss: 0.0279\n",
      "Epoch 33/100\n",
      " - 0s - loss: 0.0261\n",
      "Epoch 34/100\n",
      " - 0s - loss: 0.0241\n",
      "Epoch 35/100\n",
      " - 0s - loss: 0.0290\n",
      "Epoch 36/100\n",
      " - 0s - loss: 0.0253\n",
      "Epoch 37/100\n",
      " - 0s - loss: 0.0276\n",
      "Epoch 38/100\n",
      " - 0s - loss: 0.0244\n",
      "Epoch 39/100\n",
      " - 0s - loss: 0.0235\n",
      "Epoch 40/100\n",
      " - 0s - loss: 0.0231\n",
      "Epoch 41/100\n",
      " - 0s - loss: 0.0226\n",
      "Epoch 42/100\n",
      " - 0s - loss: 0.0243\n",
      "Epoch 43/100\n",
      " - 0s - loss: 0.0229\n",
      "Epoch 44/100\n",
      " - 0s - loss: 0.0218\n",
      "Epoch 45/100\n",
      " - 0s - loss: 0.0239\n",
      "Epoch 46/100\n",
      " - 0s - loss: 0.0213\n",
      "Epoch 47/100\n",
      " - 0s - loss: 0.0209\n",
      "Epoch 48/100\n",
      " - 0s - loss: 0.0218\n",
      "Epoch 49/100\n",
      " - 0s - loss: 0.0210\n",
      "Epoch 50/100\n",
      " - 0s - loss: 0.0220\n",
      "Epoch 51/100\n",
      " - 0s - loss: 0.0214\n",
      "Epoch 52/100\n",
      " - 0s - loss: 0.0205\n",
      "Epoch 53/100\n",
      " - 0s - loss: 0.0217\n",
      "Epoch 54/100\n",
      " - 0s - loss: 0.0214\n",
      "Epoch 55/100\n",
      " - 0s - loss: 0.0206\n",
      "Epoch 56/100\n",
      " - 0s - loss: 0.0198\n",
      "Epoch 57/100\n",
      " - 0s - loss: 0.0196\n",
      "Epoch 58/100\n",
      " - 0s - loss: 0.0183\n",
      "Epoch 59/100\n",
      " - 0s - loss: 0.0192\n",
      "Epoch 60/100\n",
      " - 0s - loss: 0.0204\n",
      "Epoch 61/100\n",
      " - 0s - loss: 0.0183\n",
      "Epoch 62/100\n",
      " - 0s - loss: 0.0183\n",
      "Epoch 63/100\n",
      " - 0s - loss: 0.0179\n",
      "Epoch 64/100\n",
      " - 0s - loss: 0.0172\n",
      "Epoch 65/100\n",
      " - 0s - loss: 0.0186\n",
      "Epoch 66/100\n",
      " - 0s - loss: 0.0200\n",
      "Epoch 67/100\n",
      " - 0s - loss: 0.0194\n",
      "Epoch 68/100\n",
      " - 0s - loss: 0.0190\n",
      "Epoch 69/100\n",
      " - 0s - loss: 0.0185\n",
      "Epoch 70/100\n",
      " - 0s - loss: 0.0179\n",
      "Epoch 71/100\n",
      " - 0s - loss: 0.0180\n",
      "Epoch 72/100\n",
      " - 0s - loss: 0.0168\n",
      "Epoch 73/100\n",
      " - 0s - loss: 0.0178\n",
      "Epoch 74/100\n",
      " - 0s - loss: 0.0168\n",
      "Epoch 75/100\n",
      " - 0s - loss: 0.0168\n",
      "Epoch 76/100\n",
      " - 0s - loss: 0.0174\n",
      "Epoch 77/100\n",
      " - 0s - loss: 0.0177\n",
      "Epoch 78/100\n",
      " - 0s - loss: 0.0166\n",
      "Epoch 79/100\n",
      " - 0s - loss: 0.0163\n",
      "Epoch 80/100\n",
      " - 0s - loss: 0.0173\n",
      "Epoch 81/100\n",
      " - 0s - loss: 0.0163\n",
      "Epoch 82/100\n",
      " - 0s - loss: 0.0162\n",
      "Epoch 83/100\n",
      " - 0s - loss: 0.0152\n",
      "Epoch 84/100\n",
      " - 0s - loss: 0.0162\n",
      "Epoch 85/100\n",
      " - 0s - loss: 0.0163\n",
      "Epoch 86/100\n",
      " - 0s - loss: 0.0160\n",
      "Epoch 87/100\n",
      " - 0s - loss: 0.0160\n",
      "Epoch 88/100\n",
      " - 0s - loss: 0.0169\n",
      "Epoch 89/100\n",
      " - 0s - loss: 0.0166\n",
      "Epoch 90/100\n",
      " - 0s - loss: 0.0156\n",
      "Epoch 91/100\n",
      " - 0s - loss: 0.0153\n",
      "Epoch 92/100\n",
      " - 0s - loss: 0.0157\n",
      "Epoch 93/100\n",
      " - 0s - loss: 0.0163\n",
      "Epoch 94/100\n",
      " - 0s - loss: 0.0144\n",
      "Epoch 95/100\n",
      " - 0s - loss: 0.0144\n",
      "Epoch 96/100\n",
      " - 0s - loss: 0.0140\n",
      "Epoch 97/100\n",
      " - 0s - loss: 0.0136\n",
      "Epoch 98/100\n",
      " - 0s - loss: 0.0156\n",
      "Epoch 99/100\n",
      " - 0s - loss: 0.0137\n",
      "Epoch 100/100\n",
      " - 0s - loss: 0.0135\n"
     ]
    },
    {
     "data": {
      "text/plain": [
       "<keras.callbacks.History at 0x11f484c50>"
      ]
     },
     "execution_count": 363,
     "metadata": {},
     "output_type": "execute_result"
    }
   ],
   "source": [
    "# 建立及訓練 LSTM 模型\n",
    "model = Sequential()\n",
    "model.add(LSTM(16, input_shape=(1, 2)))\n",
    "model.add(Dense(units=32,activation='relu'))\n",
    "model.add(Dense(units=16,activation='relu'))\n",
    "model.add(Dense(1))\n",
    "model.compile(loss='mean_squared_error', optimizer='adam')\n",
    "model.fit(trainX, trainY, epochs=100, batch_size=1, verbose=2)"
   ]
  },
  {
   "cell_type": "code",
   "execution_count": 364,
   "metadata": {
    "code_folding": [
     0
    ],
    "collapsed": false
   },
   "outputs": [
    {
     "name": "stdout",
     "output_type": "stream",
     "text": [
      "Train Score: 0.11 RMSE\n",
      "Test Score: 0.10 RMSE\n",
      "Train Score: 113674.67 RMSE\n",
      "Test Score: 108979.62 RMSE\n"
     ]
    }
   ],
   "source": [
    "# 預測\n",
    "trainPredict = model.predict(trainX)\n",
    "testPredict = model.predict(testX)\n",
    "# calculate 均方根誤差(root mean squared error)\n",
    "trainScore = math.sqrt(mean_squared_error(trainY, trainPredict[:,0]))\n",
    "print('Train Score: %.2f RMSE' % (trainScore))\n",
    "testScore = math.sqrt(mean_squared_error(testY, testPredict[:-1,0]))\n",
    "print('Test Score: %.2f RMSE' % (testScore))\n",
    "# 回復預測資料值為原始數據的規模\n",
    "trainPredict = scaler.inverse_transform(trainPredict)\n",
    "trainY = scaler.inverse_transform([trainY])\n",
    "testPredict = scaler.inverse_transform(testPredict)\n",
    "testY = scaler.inverse_transform([testY])\n",
    "# 回復後\n",
    "trainScore = math.sqrt(mean_squared_error(trainY[0], trainPredict[:,0]))\n",
    "print('Train Score: %.2f RMSE' % (trainScore))\n",
    "testScore = math.sqrt(mean_squared_error(testY[0], testPredict[:-1,0]))\n",
    "print('Test Score: %.2f RMSE' % (testScore))"
   ]
  },
  {
   "cell_type": "code",
   "execution_count": 365,
   "metadata": {
    "code_folding": [
     0
    ],
    "collapsed": false
   },
   "outputs": [
    {
     "data": {
      "image/png": "[encoded data removed]",
      "text/plain": [
       "<Figure size 432x288 with 1 Axes>"
      ]
     },
     "metadata": {},
     "output_type": "display_data"
    }
   ],
   "source": [
    "# 畫訓練資料趨勢圖\n",
    "trainPredictPlot = np.empty_like(df_target_sca)\n",
    "trainPredictPlot[:, :] = np.nan\n",
    "trainPredictPlot[1:len(trainPredict)+1, :] = trainPredict\n",
    "\n",
    "# 畫測試資料趨勢圖\n",
    "testPredictPlot = np.empty_like(df_target_sca)\n",
    "testPredictPlot[:, :] = np.nan\n",
    "testPredictPlot[len(trainPredict)+1:len(df_target_sca), :] = testPredict[0:-1]\n",
    "\n",
    "# 畫原始資料趨勢圖\n",
    "plt.plot(scaler.inverse_transform(pd.DataFrame(df_target_sca['ACC13'])))\n",
    "plt.plot(trainPredictPlot, 'C1')\n",
    "plt.plot(testPredictPlot)\n",
    "plt.show()"
   ]
  },
  {
   "cell_type": "code",
   "execution_count": 366,
   "metadata": {
    "code_folding": [
     0
    ],
    "collapsed": true
   },
   "outputs": [],
   "source": [
    "# 預測雜誌\n",
    "df_target = df_acc15[(df_acc15['ACC14']==1)&(df_acc15['ACC15']==3)]\n",
    "df_target = df_target[df_target['局名']=='新店']\n",
    "\n",
    "# 會有日期是空的，補0\n",
    "df_xindian = df_time[df_time['局名']=='新店']\n",
    "df_xindian = df_xindian[['局名','ACC06']]\n",
    "df_target = pd.merge(df_xindian, df_target, how='left', on='ACC06')\n",
    "df_target = df_target[['ACC06', 'ACC13']]\n",
    "df_target['ACC13'] = df_target['ACC13'].fillna(0)\n",
    "df_target['ACC06'] = df_target['ACC06'].astype(str).str.replace('107','2018')\n",
    "df_target['ACC06'] = pd.to_datetime(df_target['ACC06'], format='%Y%m%d')\n",
    "df_target['weekday'] = df_target['ACC06'].dt.weekday\n",
    "df_target = df_target.drop('ACC06',axis=1)"
   ]
  },
  {
   "cell_type": "code",
   "execution_count": 367,
   "metadata": {
    "collapsed": false
   },
   "outputs": [
    {
     "data": {
      "image/png": "[encoded data removed]",
      "text/plain": [
       "<Figure size 432x288 with 1 Axes>"
      ]
     },
     "metadata": {},
     "output_type": "display_data"
    }
   ],
   "source": [
    "plt.plot(df_target['ACC13'])\n",
    "plt.show()"
   ]
  },
  {
   "cell_type": "code",
   "execution_count": 368,
   "metadata": {
    "code_folding": [
     0
    ],
    "collapsed": false
   },
   "outputs": [],
   "source": [
    "# 正規化(normalize) 資料，使資料值介於[0, 1]\n",
    "scaler = MinMaxScaler(feature_range=(0, 1))\n",
    "df_target_sca = df_target.copy()\n",
    "df_target_sca['ACC13'] = scaler.fit_transform(pd.DataFrame(df_target['ACC13']))\n",
    "# 2/3 資料為訓練資料， 1/3 資料為測試資料\n",
    "train_size = int(len(df_target_sca) * 0.67)\n",
    "test_size = len(df_target_sca) - train_size\n",
    "trainX = df_target_sca.values[0:train_size,:]\n",
    "trainY = df_target_sca.values[1:train_size+1,0]\n",
    "testX = df_target_sca.values[train_size:len(df_target_sca),:]\n",
    "testY = df_target_sca.values[train_size+1:len(df_target_sca),0]\n",
    "\n",
    "trainX = np.expand_dims(trainX, axis=1)\n",
    "testX = np.expand_dims(testX, axis=1)"
   ]
  },
  {
   "cell_type": "code",
   "execution_count": 370,
   "metadata": {
    "code_folding": [
     0
    ],
    "collapsed": false
   },
   "outputs": [
    {
     "data": {
      "text/plain": [
       "<keras.callbacks.History at 0x1207fb128>"
      ]
     },
     "execution_count": 370,
     "metadata": {},
     "output_type": "execute_result"
    }
   ],
   "source": [
    "# 建立及訓練 LSTM 模型\n",
    "model = Sequential()\n",
    "model.add(LSTM(16, input_shape=(1, 2)))\n",
    "model.add(Dense(units=32,activation='relu'))\n",
    "model.add(Dense(units=16,activation='relu'))\n",
    "model.add(Dense(1))\n",
    "model.compile(loss='mean_squared_error', optimizer='adam')\n",
    "model.fit(trainX, trainY, epochs=100, batch_size=1, verbose=0)"
   ]
  },
  {
   "cell_type": "code",
   "execution_count": 371,
   "metadata": {
    "code_folding": [
     0
    ],
    "collapsed": false
   },
   "outputs": [
    {
     "name": "stdout",
     "output_type": "stream",
     "text": [
      "Train Score: 0.00 RMSE\n",
      "Test Score: 0.01 RMSE\n",
      "Train Score: 434.63 RMSE\n",
      "Test Score: 3348.41 RMSE\n"
     ]
    }
   ],
   "source": [
    "# 預測\n",
    "trainPredict = model.predict(trainX)\n",
    "testPredict = model.predict(testX)\n",
    "# calculate 均方根誤差(root mean squared error)\n",
    "trainScore = math.sqrt(mean_squared_error(trainY, trainPredict[:,0]))\n",
    "print('Train Score: %.2f RMSE' % (trainScore))\n",
    "testScore = math.sqrt(mean_squared_error(testY, testPredict[:-1,0]))\n",
    "print('Test Score: %.2f RMSE' % (testScore))\n",
    "# 回復預測資料值為原始數據的規模\n",
    "trainPredict = scaler.inverse_transform(trainPredict)\n",
    "trainY = scaler.inverse_transform([trainY])\n",
    "testPredict = scaler.inverse_transform(testPredict)\n",
    "testY = scaler.inverse_transform([testY])\n",
    "# 回復後\n",
    "trainScore = math.sqrt(mean_squared_error(trainY[0], trainPredict[:,0]))\n",
    "print('Train Score: %.2f RMSE' % (trainScore))\n",
    "testScore = math.sqrt(mean_squared_error(testY[0], testPredict[:-1,0]))\n",
    "print('Test Score: %.2f RMSE' % (testScore))"
   ]
  },
  {
   "cell_type": "code",
   "execution_count": 372,
   "metadata": {
    "code_folding": [
     0
    ],
    "collapsed": false
   },
   "outputs": [
    {
     "data": {
      "image/png": "[encoded data removed]",
      "text/plain": [
       "<Figure size 432x288 with 1 Axes>"
      ]
     },
     "metadata": {},
     "output_type": "display_data"
    }
   ],
   "source": [
    "# 畫訓練資料趨勢圖\n",
    "trainPredictPlot = np.empty_like(df_target_sca)\n",
    "trainPredictPlot[:, :] = np.nan\n",
    "trainPredictPlot[1:len(trainPredict)+1, :] = trainPredict\n",
    "\n",
    "# 畫測試資料趨勢圖\n",
    "testPredictPlot = np.empty_like(df_target_sca)\n",
    "testPredictPlot[:, :] = np.nan\n",
    "testPredictPlot[len(trainPredict)+1:len(df_target_sca), :] = testPredict[0:-1]\n",
    "\n",
    "# 畫原始資料趨勢圖\n",
    "plt.plot(scaler.inverse_transform(pd.DataFrame(df_target_sca['ACC13'])))\n",
    "plt.plot(trainPredictPlot, 'C1')\n",
    "plt.plot(testPredictPlot)\n",
    "plt.show()"
   ]
  },
  {
   "cell_type": "markdown",
   "metadata": {},
   "source": [
    "### 預測新店全部細項"
   ]
  },
  {
   "cell_type": "code",
   "execution_count": 378,
   "metadata": {
    "collapsed": false
   },
   "outputs": [
    {
     "data": {
      "text/html": [
       "<div>\n",
       "<style scoped>\n",
       "    .dataframe tbody tr th:only-of-type {\n",
       "        vertical-align: middle;\n",
       "    }\n",
       "\n",
       "    .dataframe tbody tr th {\n",
       "        vertical-align: top;\n",
       "    }\n",
       "\n",
       "    .dataframe thead th {\n",
       "        text-align: right;\n",
       "    }\n",
       "</style>\n",
       "<table border=\"1\" class=\"dataframe\">\n",
       "  <thead>\n",
       "    <tr style=\"text-align: right;\">\n",
       "      <th></th>\n",
       "      <th>ACC14</th>\n",
       "      <th>ACC15</th>\n",
       "      <th>ACC13</th>\n",
       "    </tr>\n",
       "  </thead>\n",
       "  <tbody>\n",
       "    <tr>\n",
       "      <th>0</th>\n",
       "      <td>1</td>\n",
       "      <td>1</td>\n",
       "      <td>618325</td>\n",
       "    </tr>\n",
       "    <tr>\n",
       "      <th>1</th>\n",
       "      <td>1</td>\n",
       "      <td>2</td>\n",
       "      <td>28163730</td>\n",
       "    </tr>\n",
       "    <tr>\n",
       "      <th>2</th>\n",
       "      <td>1</td>\n",
       "      <td>3</td>\n",
       "      <td>422806</td>\n",
       "    </tr>\n",
       "    <tr>\n",
       "      <th>3</th>\n",
       "      <td>1</td>\n",
       "      <td>4</td>\n",
       "      <td>7252</td>\n",
       "    </tr>\n",
       "    <tr>\n",
       "      <th>4</th>\n",
       "      <td>1</td>\n",
       "      <td>5</td>\n",
       "      <td>6020787</td>\n",
       "    </tr>\n",
       "    <tr>\n",
       "      <th>5</th>\n",
       "      <td>1</td>\n",
       "      <td>6</td>\n",
       "      <td>61514</td>\n",
       "    </tr>\n",
       "    <tr>\n",
       "      <th>6</th>\n",
       "      <td>1</td>\n",
       "      <td>7</td>\n",
       "      <td>602587</td>\n",
       "    </tr>\n",
       "    <tr>\n",
       "      <th>7</th>\n",
       "      <td>2</td>\n",
       "      <td>1</td>\n",
       "      <td>21000537</td>\n",
       "    </tr>\n",
       "    <tr>\n",
       "      <th>8</th>\n",
       "      <td>3</td>\n",
       "      <td>1</td>\n",
       "      <td>4715</td>\n",
       "    </tr>\n",
       "    <tr>\n",
       "      <th>9</th>\n",
       "      <td>3</td>\n",
       "      <td>2</td>\n",
       "      <td>358</td>\n",
       "    </tr>\n",
       "    <tr>\n",
       "      <th>10</th>\n",
       "      <td>3</td>\n",
       "      <td>3</td>\n",
       "      <td>1783</td>\n",
       "    </tr>\n",
       "  </tbody>\n",
       "</table>\n",
       "</div>"
      ],
      "text/plain": [
       "    ACC14  ACC15     ACC13\n",
       "0       1      1    618325\n",
       "1       1      2  28163730\n",
       "2       1      3    422806\n",
       "3       1      4      7252\n",
       "4       1      5   6020787\n",
       "5       1      6     61514\n",
       "6       1      7    602587\n",
       "7       2      1  21000537\n",
       "8       3      1      4715\n",
       "9       3      2       358\n",
       "10      3      3      1783"
      ]
     },
     "execution_count": 378,
     "metadata": {},
     "output_type": "execute_result"
    }
   ],
   "source": [
    "df_xindian_all = df_temp.groupby(['ACC14','ACC15'])['ACC13'].sum().reset_index()\n",
    "df_xindian_all"
   ]
  },
  {
   "cell_type": "code",
   "execution_count": 174,
   "metadata": {
    "collapsed": false
   },
   "outputs": [
    {
     "data": {
      "text/html": [
       "<div>\n",
       "<style scoped>\n",
       "    .dataframe tbody tr th:only-of-type {\n",
       "        vertical-align: middle;\n",
       "    }\n",
       "\n",
       "    .dataframe tbody tr th {\n",
       "        vertical-align: top;\n",
       "    }\n",
       "\n",
       "    .dataframe thead th {\n",
       "        text-align: right;\n",
       "    }\n",
       "</style>\n",
       "<table border=\"1\" class=\"dataframe\">\n",
       "  <thead>\n",
       "    <tr style=\"text-align: right;\">\n",
       "      <th></th>\n",
       "      <th>局名</th>\n",
       "      <th>ACC06</th>\n",
       "      <th>ACC14</th>\n",
       "      <th>ACC15</th>\n",
       "      <th>ACC13</th>\n",
       "    </tr>\n",
       "  </thead>\n",
       "  <tbody>\n",
       "    <tr>\n",
       "      <th>44699</th>\n",
       "      <td>新店</td>\n",
       "      <td>1070331</td>\n",
       "      <td>1</td>\n",
       "      <td>1</td>\n",
       "      <td>5297</td>\n",
       "    </tr>\n",
       "    <tr>\n",
       "      <th>44700</th>\n",
       "      <td>新店</td>\n",
       "      <td>1070331</td>\n",
       "      <td>1</td>\n",
       "      <td>2</td>\n",
       "      <td>189204</td>\n",
       "    </tr>\n",
       "    <tr>\n",
       "      <th>44701</th>\n",
       "      <td>新店</td>\n",
       "      <td>1070331</td>\n",
       "      <td>1</td>\n",
       "      <td>5</td>\n",
       "      <td>54571</td>\n",
       "    </tr>\n",
       "    <tr>\n",
       "      <th>44702</th>\n",
       "      <td>新店</td>\n",
       "      <td>1070331</td>\n",
       "      <td>1</td>\n",
       "      <td>6</td>\n",
       "      <td>46</td>\n",
       "    </tr>\n",
       "    <tr>\n",
       "      <th>44703</th>\n",
       "      <td>新店</td>\n",
       "      <td>1070331</td>\n",
       "      <td>2</td>\n",
       "      <td>1</td>\n",
       "      <td>168108</td>\n",
       "    </tr>\n",
       "    <tr>\n",
       "      <th>44704</th>\n",
       "      <td>新店</td>\n",
       "      <td>1070331</td>\n",
       "      <td>3</td>\n",
       "      <td>1</td>\n",
       "      <td>15</td>\n",
       "    </tr>\n",
       "    <tr>\n",
       "      <th>44705</th>\n",
       "      <td>新店</td>\n",
       "      <td>1070331</td>\n",
       "      <td>3</td>\n",
       "      <td>2</td>\n",
       "      <td>6</td>\n",
       "    </tr>\n",
       "    <tr>\n",
       "      <th>44706</th>\n",
       "      <td>新店</td>\n",
       "      <td>1070331</td>\n",
       "      <td>3</td>\n",
       "      <td>3</td>\n",
       "      <td>6</td>\n",
       "    </tr>\n",
       "  </tbody>\n",
       "</table>\n",
       "</div>"
      ],
      "text/plain": [
       "       局名    ACC06  ACC14 ACC15   ACC13\n",
       "44699  新店  1070331      1     1    5297\n",
       "44700  新店  1070331      1     2  189204\n",
       "44701  新店  1070331      1     5   54571\n",
       "44702  新店  1070331      1     6      46\n",
       "44703  新店  1070331      2     1  168108\n",
       "44704  新店  1070331      3     1      15\n",
       "44705  新店  1070331      3     2       6\n",
       "44706  新店  1070331      3     3       6"
      ]
     },
     "execution_count": 174,
     "metadata": {},
     "output_type": "execute_result"
    }
   ],
   "source": [
    "# 最後一天3/31\n",
    "df_temp = df_acc15[df_acc15['局名']=='新店']\n",
    "df_temp[df_temp['ACC06']==1070331]"
   ]
  },
  {
   "cell_type": "code",
   "execution_count": 410,
   "metadata": {
    "collapsed": false,
    "scrolled": false
   },
   "outputs": [
    {
     "name": "stdout",
     "output_type": "stream",
     "text": [
      "ACC14: 1 , ACC15: 1 , 預測: 2359.6082\n",
      "ACC14: 1 , ACC15: 2 , 預測: 513431.03\n",
      "ACC14: 1 , ACC15: 3 , 預測: 0.0\n",
      "ACC14: 1 , ACC15: 4 , 預測: 76.65432\n",
      "ACC14: 1 , ACC15: 5 , 預測: 134060.62\n",
      "ACC14: 1 , ACC15: 6 , 預測: 2.7140498\n",
      "ACC14: 1 , ACC15: 7 , 預測: 7956.6455\n",
      "ACC14: 2 , ACC15: 1 , 預測: 477401.44\n",
      "ACC14: 3 , ACC15: 1 , 預測: 42.124725\n",
      "ACC14: 3 , ACC15: 2 , 預測: 2.4698036\n",
      "ACC14: 3 , ACC15: 3 , 預測: 33.969418\n"
     ]
    }
   ],
   "source": [
    "%time\n",
    "for i,k in list(zip(df_xindian_all['ACC14'],df_xindian_all['ACC15'])):\n",
    "    # 預測細項\n",
    "    df_target = df_acc15[(df_acc15['ACC14']==i)&(df_acc15['ACC15']==k)]\n",
    "    df_target = df_target[df_target['局名']=='新店']\n",
    "    \n",
    "    # 會有日期是空的，補0\n",
    "    df_xindian = df_time[df_time['局名']=='新店']\n",
    "    df_xindian = df_xindian[['局名','ACC06']]\n",
    "    df_target = pd.merge(df_xindian, df_target, how='left', on='ACC06')\n",
    "    df_target = df_target[['ACC06', 'ACC13']]\n",
    "    df_target['ACC13'] = df_target['ACC13'].fillna(0)\n",
    "    df_target['ACC06'] = df_target['ACC06'].astype(str).str.replace('107','2018')\n",
    "    df_target['ACC06'] = pd.to_datetime(df_target['ACC06'], format='%Y%m%d')\n",
    "    df_target['weekday'] = df_target['ACC06'].dt.weekday\n",
    "    df_target = df_target.drop('ACC06',axis=1)\n",
    "    \n",
    "    # 正規化(normalize) 資料，使資料值介於[0, 1]\n",
    "    scaler = MinMaxScaler(feature_range=(0, 1))\n",
    "    df_target_sca = df_target.copy()\n",
    "    df_target_sca['ACC13'] = scaler.fit_transform(pd.DataFrame(df_target['ACC13']))\n",
    "    \n",
    "    # 2/3 資料為訓練資料， 1/3 資料為測試資料\n",
    "    train_size = int(len(df_target_sca) * 0.67)\n",
    "    test_size = len(df_target_sca) - train_size\n",
    "    trainX = df_target_sca.values[0:train_size,:]\n",
    "    trainY = df_target_sca.values[1:train_size+1,0]\n",
    "    testX = df_target_sca.values[train_size:len(df_target_sca),:]\n",
    "    testY = df_target_sca.values[train_size+1:len(df_target_sca),0]\n",
    "    trainX = np.expand_dims(trainX, axis=1)\n",
    "    testX = np.expand_dims(testX, axis=1)\n",
    "    \n",
    "    # 建立及訓練 LSTM 模型\n",
    "    model = Sequential()\n",
    "    model.add(LSTM(32, input_shape=(1, 2)))\n",
    "    model.add(Dense(units=64,activation='relu'))\n",
    "    model.add(Dense(units=32,activation='relu'))\n",
    "    model.add(Dense(1))\n",
    "    model.compile(loss='mean_squared_error', optimizer='adam')\n",
    "    model.fit(trainX, trainY, epochs=100, batch_size=1, verbose=0)\n",
    "    \n",
    "    # 預測\n",
    "    trainPredict = model.predict(trainX)\n",
    "    testPredict = model.predict(testX)\n",
    "\n",
    "    # 回復預測資料值為原始數據的規模\n",
    "    trainPredict = scaler.inverse_transform(trainPredict)\n",
    "    trainY = scaler.inverse_transform([trainY])\n",
    "    testPredict = scaler.inverse_transform(testPredict)\n",
    "    testY = scaler.inverse_transform([testY])\n",
    "    if testPredict[-1][0] < 0:\n",
    "        testPredict[-1][0] = 0\n",
    "    print('ACC14:',str(i),\",\",'ACC15:',str(k),\",\",'預測:',testPredict[-1][0])\n",
    "print('Finish')"
   ]
  },
  {
   "cell_type": "code",
   "execution_count": 414,
   "metadata": {
    "collapsed": false
   },
   "outputs": [
    {
     "data": {
      "text/html": [
       "<div>\n",
       "<style scoped>\n",
       "    .dataframe tbody tr th:only-of-type {\n",
       "        vertical-align: middle;\n",
       "    }\n",
       "\n",
       "    .dataframe tbody tr th {\n",
       "        vertical-align: top;\n",
       "    }\n",
       "\n",
       "    .dataframe thead th {\n",
       "        text-align: right;\n",
       "    }\n",
       "</style>\n",
       "<table border=\"1\" class=\"dataframe\">\n",
       "  <thead>\n",
       "    <tr style=\"text-align: right;\">\n",
       "      <th></th>\n",
       "      <th>郵局</th>\n",
       "      <th>ACC15</th>\n",
       "      <th>3/31件數</th>\n",
       "      <th>預測4/2件數</th>\n",
       "    </tr>\n",
       "  </thead>\n",
       "  <tbody>\n",
       "    <tr>\n",
       "      <th>0</th>\n",
       "      <td>新店郵局</td>\n",
       "      <td>信函</td>\n",
       "      <td>5297</td>\n",
       "      <td>2360</td>\n",
       "    </tr>\n",
       "    <tr>\n",
       "      <th>1</th>\n",
       "      <td>新店郵局</td>\n",
       "      <td>小包</td>\n",
       "      <td>189204</td>\n",
       "      <td>513431</td>\n",
       "    </tr>\n",
       "    <tr>\n",
       "      <th>2</th>\n",
       "      <td>新店郵局</td>\n",
       "      <td>雜誌</td>\n",
       "      <td>0</td>\n",
       "      <td>0</td>\n",
       "    </tr>\n",
       "    <tr>\n",
       "      <th>3</th>\n",
       "      <td>新店郵局</td>\n",
       "      <td>新聞紙</td>\n",
       "      <td>0</td>\n",
       "      <td>77</td>\n",
       "    </tr>\n",
       "    <tr>\n",
       "      <th>4</th>\n",
       "      <td>新店郵局</td>\n",
       "      <td>印刷物</td>\n",
       "      <td>54571</td>\n",
       "      <td>134061</td>\n",
       "    </tr>\n",
       "    <tr>\n",
       "      <th>5</th>\n",
       "      <td>新店郵局</td>\n",
       "      <td>明信片</td>\n",
       "      <td>46</td>\n",
       "      <td>3</td>\n",
       "    </tr>\n",
       "    <tr>\n",
       "      <th>6</th>\n",
       "      <td>新店郵局</td>\n",
       "      <td>郵簡</td>\n",
       "      <td>0</td>\n",
       "      <td>7957</td>\n",
       "    </tr>\n",
       "    <tr>\n",
       "      <th>7</th>\n",
       "      <td>新店郵局</td>\n",
       "      <td>一般包裹</td>\n",
       "      <td>168108</td>\n",
       "      <td>477401</td>\n",
       "    </tr>\n",
       "    <tr>\n",
       "      <th>8</th>\n",
       "      <td>新店郵局</td>\n",
       "      <td>一般快捷</td>\n",
       "      <td>15</td>\n",
       "      <td>42</td>\n",
       "    </tr>\n",
       "    <tr>\n",
       "      <th>9</th>\n",
       "      <td>新店郵局</td>\n",
       "      <td>文件快捷</td>\n",
       "      <td>6</td>\n",
       "      <td>2</td>\n",
       "    </tr>\n",
       "    <tr>\n",
       "      <th>10</th>\n",
       "      <td>新店郵局</td>\n",
       "      <td>商品快捷</td>\n",
       "      <td>6</td>\n",
       "      <td>34</td>\n",
       "    </tr>\n",
       "  </tbody>\n",
       "</table>\n",
       "</div>"
      ],
      "text/plain": [
       "      郵局 ACC15  3/31件數  預測4/2件數\n",
       "0   新店郵局    信函    5297     2360\n",
       "1   新店郵局    小包  189204   513431\n",
       "2   新店郵局    雜誌       0        0\n",
       "3   新店郵局   新聞紙       0       77\n",
       "4   新店郵局   印刷物   54571   134061\n",
       "5   新店郵局   明信片      46        3\n",
       "6   新店郵局    郵簡       0     7957\n",
       "7   新店郵局  一般包裹  168108   477401\n",
       "8   新店郵局  一般快捷      15       42\n",
       "9   新店郵局  文件快捷       6        2\n",
       "10  新店郵局  商品快捷       6       34"
      ]
     },
     "execution_count": 414,
     "metadata": {},
     "output_type": "execute_result"
    }
   ],
   "source": [
    "a = ['新店郵局','新店郵局','新店郵局','新店郵局','新店郵局','新店郵局','新店郵局','新店郵局','新店郵局','新店郵局','新店郵局']\n",
    "b = ['信函','小包','雜誌','新聞紙','印刷物','明信片','郵簡','一般包裹','一般快捷','文件快捷','商品快捷']\n",
    "c = [5297,189204,0,0,54571,46,0,168108,15,6,6]\n",
    "d = [2360,513431,0,77,134061,3,7957,477401,42,2,34]\n",
    "df2 = pd.DataFrame(pd.DataFrame(list(zip(a,b,c,d)), columns=['郵局','ACC15','3/31件數','預測4/2件數']))\n",
    "df2"
   ]
  },
  {
   "cell_type": "code",
   "execution_count": null,
   "metadata": {
    "collapsed": true
   },
   "outputs": [],
   "source": []
  }
 ],
 "metadata": {
  "kernelspec": {
   "display_name": "Python 3",
   "language": "python",
   "name": "python3"
  },
  "language_info": {
   "codemirror_mode": {
    "name": "ipython",
    "version": 3
   },
   "file_extension": ".py",
   "mimetype": "text/x-python",
   "name": "python",
   "nbconvert_exporter": "python",
   "pygments_lexer": "ipython3",
   "version": "3.6.8"
  }
 },
 "nbformat": 4,
 "nbformat_minor": 2
}
