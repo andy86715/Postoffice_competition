{
 "cells": [
  {
   "cell_type": "code",
   "execution_count": 1,
   "metadata": {
    "collapsed": true
   },
   "outputs": [],
   "source": [
    "import pandas as pd\n",
    "pd.set_option('display.max_columns', None)\n",
    "df = pd.read_csv('/Volumes/transcend/大檔案/中華郵政/郵務局號.csv')"
   ]
  },
  {
   "cell_type": "code",
   "execution_count": 2,
   "metadata": {
    "collapsed": false
   },
   "outputs": [
    {
     "data": {
      "text/html": [
       "<div>\n",
       "<style scoped>\n",
       "    .dataframe tbody tr th:only-of-type {\n",
       "        vertical-align: middle;\n",
       "    }\n",
       "\n",
       "    .dataframe tbody tr th {\n",
       "        vertical-align: top;\n",
       "    }\n",
       "\n",
       "    .dataframe thead th {\n",
       "        text-align: right;\n",
       "    }\n",
       "</style>\n",
       "<table border=\"1\" class=\"dataframe\">\n",
       "  <thead>\n",
       "    <tr style=\"text-align: right;\">\n",
       "      <th></th>\n",
       "      <th>局名</th>\n",
       "      <th>郵務局號</th>\n",
       "      <th>縣市</th>\n",
       "      <th>鄉鎮市區</th>\n",
       "      <th>地址</th>\n",
       "      <th>經度</th>\n",
       "      <th>緯度</th>\n",
       "    </tr>\n",
       "  </thead>\n",
       "  <tbody>\n",
       "    <tr>\n",
       "      <th>0</th>\n",
       "      <td>臺北北門郵局</td>\n",
       "      <td>100000</td>\n",
       "      <td>臺北市</td>\n",
       "      <td>中正區</td>\n",
       "      <td>忠孝西路一段120號1樓</td>\n",
       "      <td>121.511431</td>\n",
       "      <td>25.047355</td>\n",
       "    </tr>\n",
       "    <tr>\n",
       "      <th>1</th>\n",
       "      <td>臺北東門郵局</td>\n",
       "      <td>100001</td>\n",
       "      <td>臺北市</td>\n",
       "      <td>中正區</td>\n",
       "      <td>信義路二段163號</td>\n",
       "      <td>121.528922</td>\n",
       "      <td>25.034080</td>\n",
       "    </tr>\n",
       "    <tr>\n",
       "      <th>2</th>\n",
       "      <td>臺北漢中街郵局</td>\n",
       "      <td>100002</td>\n",
       "      <td>臺北市</td>\n",
       "      <td>萬華區</td>\n",
       "      <td>漢中街173號</td>\n",
       "      <td>121.507005</td>\n",
       "      <td>25.041320</td>\n",
       "    </tr>\n",
       "    <tr>\n",
       "      <th>3</th>\n",
       "      <td>臺北西園郵局</td>\n",
       "      <td>100003</td>\n",
       "      <td>臺北市</td>\n",
       "      <td>萬華區</td>\n",
       "      <td>長沙街二段156、158、160、162號</td>\n",
       "      <td>121.501031</td>\n",
       "      <td>25.040769</td>\n",
       "    </tr>\n",
       "    <tr>\n",
       "      <th>4</th>\n",
       "      <td>臺北龍山郵局</td>\n",
       "      <td>100004</td>\n",
       "      <td>臺北市</td>\n",
       "      <td>萬華區</td>\n",
       "      <td>廣州街67號</td>\n",
       "      <td>121.504565</td>\n",
       "      <td>25.036559</td>\n",
       "    </tr>\n",
       "  </tbody>\n",
       "</table>\n",
       "</div>"
      ],
      "text/plain": [
       "        局名    郵務局號   縣市 鄉鎮市區                     地址          經度         緯度\n",
       "0   臺北北門郵局  100000  臺北市  中正區           忠孝西路一段120號1樓  121.511431  25.047355\n",
       "1   臺北東門郵局  100001  臺北市  中正區              信義路二段163號  121.528922  25.034080\n",
       "2  臺北漢中街郵局  100002  臺北市  萬華區                漢中街173號  121.507005  25.041320\n",
       "3   臺北西園郵局  100003  臺北市  萬華區  長沙街二段156、158、160、162號  121.501031  25.040769\n",
       "4   臺北龍山郵局  100004  臺北市  萬華區                 廣州街67號  121.504565  25.036559"
      ]
     },
     "execution_count": 2,
     "metadata": {},
     "output_type": "execute_result"
    }
   ],
   "source": [
    "df = df[['局名','郵務局號','縣市','鄉鎮市區','地址','經度','緯度']]\n",
    "df.head()"
   ]
  },
  {
   "cell_type": "code",
   "execution_count": 3,
   "metadata": {
    "collapsed": false
   },
   "outputs": [
    {
     "name": "stdout",
     "output_type": "stream",
     "text": [
      "321\n"
     ]
    }
   ],
   "source": [
    "df2 = df[(df['縣市']=='臺北市') | (df['縣市']=='新北市')]\n",
    "df2 = df2.reset_index(drop=True)\n",
    "print(len(df2))"
   ]
  },
  {
   "cell_type": "code",
   "execution_count": 12,
   "metadata": {
    "collapsed": false
   },
   "outputs": [
    {
     "name": "stdout",
     "output_type": "stream",
     "text": [
      "2.297417534002858\n"
     ]
    },
    {
     "name": "stderr",
     "output_type": "stream",
     "text": [
      "/Users/andy/anaconda/lib/python3.6/site-packages/ipykernel/__main__.py:3: DeprecationWarning: Vincenty is deprecated and is going to be removed in geopy 2.0. Use `geopy.distance.geodesic` (or the default `geopy.distance.distance`) instead, which is more accurate and always converges.\n",
      "  app.launch_new_instance()\n"
     ]
    }
   ],
   "source": [
    "coords_1 = (25.047355, 121.511431)\n",
    "coords_2 = (25.034080, 121.528922)\n",
    "print(geopy.distance.vincenty(coords_1, coords_2).km)"
   ]
  },
  {
   "cell_type": "code",
   "execution_count": 4,
   "metadata": {
    "collapsed": false,
    "scrolled": false
   },
   "outputs": [
    {
     "name": "stderr",
     "output_type": "stream",
     "text": [
      "/Users/andy/anaconda/lib/python3.6/site-packages/ipykernel/__main__.py:11: DeprecationWarning: Vincenty is deprecated and is going to be removed in geopy 2.0. Use `geopy.distance.geodesic` (or the default `geopy.distance.distance`) instead, which is more accurate and always converges.\n"
     ]
    },
    {
     "name": "stdout",
     "output_type": "stream",
     "text": [
      "\n"
     ]
    }
   ],
   "source": [
    "import geopy.distance\n",
    "from tqdm import tqdm_notebook\n",
    "\n",
    "neighbor = []\n",
    "for i in tqdm_notebook(range(len(df2))):\n",
    "    number = 0\n",
    "    for k in range(len(df2)):\n",
    "        if i == k:\n",
    "            pass\n",
    "        else:\n",
    "            distance = geopy.distance.vincenty((df2['緯度'][i],df2['經度'][i]),(df2['緯度'][k],df2['經度'][k])).km\n",
    "            if distance <= 1:\n",
    "                number += 1\n",
    "            else:\n",
    "                pass\n",
    "    neighbor.append(number)"
   ]
  },
  {
   "cell_type": "code",
   "execution_count": 6,
   "metadata": {
    "collapsed": false,
    "scrolled": false
   },
   "outputs": [
    {
     "data": {
      "text/html": [
       "<div>\n",
       "<style scoped>\n",
       "    .dataframe tbody tr th:only-of-type {\n",
       "        vertical-align: middle;\n",
       "    }\n",
       "\n",
       "    .dataframe tbody tr th {\n",
       "        vertical-align: top;\n",
       "    }\n",
       "\n",
       "    .dataframe thead th {\n",
       "        text-align: right;\n",
       "    }\n",
       "</style>\n",
       "<table border=\"1\" class=\"dataframe\">\n",
       "  <thead>\n",
       "    <tr style=\"text-align: right;\">\n",
       "      <th></th>\n",
       "      <th>局名</th>\n",
       "      <th>郵務局號</th>\n",
       "      <th>縣市</th>\n",
       "      <th>鄉鎮市區</th>\n",
       "      <th>地址</th>\n",
       "      <th>經度</th>\n",
       "      <th>緯度</th>\n",
       "      <th>附近郵局數</th>\n",
       "    </tr>\n",
       "  </thead>\n",
       "  <tbody>\n",
       "    <tr>\n",
       "      <th>0</th>\n",
       "      <td>臺北北門郵局</td>\n",
       "      <td>100000</td>\n",
       "      <td>臺北市</td>\n",
       "      <td>中正區</td>\n",
       "      <td>忠孝西路一段120號1樓</td>\n",
       "      <td>121.511431</td>\n",
       "      <td>25.047355</td>\n",
       "      <td>12</td>\n",
       "    </tr>\n",
       "    <tr>\n",
       "      <th>1</th>\n",
       "      <td>臺北東門郵局</td>\n",
       "      <td>100001</td>\n",
       "      <td>臺北市</td>\n",
       "      <td>中正區</td>\n",
       "      <td>信義路二段163號</td>\n",
       "      <td>121.528922</td>\n",
       "      <td>25.034080</td>\n",
       "      <td>8</td>\n",
       "    </tr>\n",
       "    <tr>\n",
       "      <th>2</th>\n",
       "      <td>臺北漢中街郵局</td>\n",
       "      <td>100002</td>\n",
       "      <td>臺北市</td>\n",
       "      <td>萬華區</td>\n",
       "      <td>漢中街173號</td>\n",
       "      <td>121.507005</td>\n",
       "      <td>25.041320</td>\n",
       "      <td>12</td>\n",
       "    </tr>\n",
       "    <tr>\n",
       "      <th>3</th>\n",
       "      <td>臺北西園郵局</td>\n",
       "      <td>100003</td>\n",
       "      <td>臺北市</td>\n",
       "      <td>萬華區</td>\n",
       "      <td>長沙街二段156、158、160、162號</td>\n",
       "      <td>121.501031</td>\n",
       "      <td>25.040769</td>\n",
       "      <td>5</td>\n",
       "    </tr>\n",
       "    <tr>\n",
       "      <th>4</th>\n",
       "      <td>臺北龍山郵局</td>\n",
       "      <td>100004</td>\n",
       "      <td>臺北市</td>\n",
       "      <td>萬華區</td>\n",
       "      <td>廣州街67號</td>\n",
       "      <td>121.504565</td>\n",
       "      <td>25.036559</td>\n",
       "      <td>10</td>\n",
       "    </tr>\n",
       "  </tbody>\n",
       "</table>\n",
       "</div>"
      ],
      "text/plain": [
       "        局名    郵務局號   縣市 鄉鎮市區                     地址          經度         緯度  \\\n",
       "0   臺北北門郵局  100000  臺北市  中正區           忠孝西路一段120號1樓  121.511431  25.047355   \n",
       "1   臺北東門郵局  100001  臺北市  中正區              信義路二段163號  121.528922  25.034080   \n",
       "2  臺北漢中街郵局  100002  臺北市  萬華區                漢中街173號  121.507005  25.041320   \n",
       "3   臺北西園郵局  100003  臺北市  萬華區  長沙街二段156、158、160、162號  121.501031  25.040769   \n",
       "4   臺北龍山郵局  100004  臺北市  萬華區                 廣州街67號  121.504565  25.036559   \n",
       "\n",
       "   附近郵局數  \n",
       "0     12  \n",
       "1      8  \n",
       "2     12  \n",
       "3      5  \n",
       "4     10  "
      ]
     },
     "execution_count": 6,
     "metadata": {},
     "output_type": "execute_result"
    }
   ],
   "source": [
    "df3 = pd.concat([df2, pd.DataFrame(neighbor, columns=['附近郵局數'])], axis=1)\n",
    "df3.head()"
   ]
  },
  {
   "cell_type": "code",
   "execution_count": 7,
   "metadata": {
    "collapsed": false
   },
   "outputs": [],
   "source": [
    "df3.to_excel('/Volumes/transcend/大檔案/中華郵政/附近郵局數.xlsx')"
   ]
  }
 ],
 "metadata": {
  "kernelspec": {
   "display_name": "Python 3",
   "language": "python",
   "name": "python3"
  },
  "language_info": {
   "codemirror_mode": {
    "name": "ipython",
    "version": 3
   },
   "file_extension": ".py",
   "mimetype": "text/x-python",
   "name": "python",
   "nbconvert_exporter": "python",
   "pygments_lexer": "ipython3",
   "version": "3.6.8"
  },
  "widgets": {
   "state": {
    "3e89828ca8874d10870c0d070ae7a252": {
     "views": [
      {
       "cell_index": 4
      }
     ]
    }
   },
   "version": "1.2.0"
  }
 },
 "nbformat": 4,
 "nbformat_minor": 2
}
